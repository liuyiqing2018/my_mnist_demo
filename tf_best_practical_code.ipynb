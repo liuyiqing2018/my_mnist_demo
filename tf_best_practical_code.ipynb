{
 "cells": [
  {
   "cell_type": "markdown",
   "metadata": {},
   "source": [
    "# Part1. Train mnist data"
   ]
  },
  {
   "cell_type": "code",
   "execution_count": 1,
   "metadata": {
    "collapsed": true
   },
   "outputs": [],
   "source": [
    "import os\n",
    "\n",
    "import tensorflow as tf\n",
    "from tensorflow.examples.tutorials.mnist import input_data\n",
    "\n",
    "import mnist_inference\n",
    "import mnist_evaluate\n",
    "\n",
    "import matplotlib.pyplot as plt\n",
    "%matplotlib inline"
   ]
  },
  {
   "cell_type": "code",
   "execution_count": 2,
   "metadata": {
    "collapsed": true
   },
   "outputs": [],
   "source": [
    "BATCH_SIZE = 100\n",
    "LEARNING_RATE_BASE = 0.8\n",
    "LEARNING_RATE_DECAY = 0.99\n",
    "REGULARIZATION_RATE = 0.0001\n",
    "TRAINING_STEPS = 5000\n",
    "MOVING_AVERAGE_DECAY = 0.99\n",
    "\n",
    "MODEL_SAVE_PATH = './model_save_dir/model.ckpt'"
   ]
  },
  {
   "cell_type": "code",
   "execution_count": 3,
   "metadata": {
    "collapsed": true
   },
   "outputs": [],
   "source": [
    "def train(mnist):\n",
    "    x = tf.placeholder(tf.float32, [None, mnist_inference.INPUT_NODE], name='x-input')\n",
    "    y = tf.placeholder(tf.float32, [None, mnist_inference.OUTPUT_NODE], name='y-input')\n",
    "    \n",
    "    regularizer = tf.contrib.layers.l2_regularizer(REGULARIZATION_RATE)\n",
    "    y_ = mnist_inference.inference(x, regularizer)\n",
    "    \n",
    "    global_step = tf.Variable(0, trainable=False)\n",
    "    variable_averages = tf.train.ExponentialMovingAverage(MOVING_AVERAGE_DECAY, global_step)\n",
    "    variables_averages_op = variable_averages.apply(tf.trainable_variables())\n",
    "    \n",
    "    cross_entropy = tf.losses.softmax_cross_entropy(logits=y_, onehot_labels=y)\n",
    "    loss = tf.losses.get_total_loss(add_regularization_losses=True)\n",
    "    \n",
    "    learning_rate = tf.train.exponential_decay(\n",
    "        LEARNING_RATE_BASE,\n",
    "        global_step,\n",
    "        mnist.train.num_examples / BATCH_SIZE,\n",
    "        LEARNING_RATE_DECAY)\n",
    "    train_step = tf.train.GradientDescentOptimizer(learning_rate)\\\n",
    "                   .minimize(loss, global_step=global_step)\n",
    "    train_op = tf.group(train_step, variables_averages_op)\n",
    "    \n",
    "    saver = tf.train.Saver()\n",
    "    \n",
    "    plot_loss = {'step':[], 'loss':[]}\n",
    "    plot_accuracy = {'step':[], 'accuracy':[]}\n",
    "    with tf.Session() as sess:\n",
    "        tf.global_variables_initializer().run()\n",
    "        \n",
    "        for i in range(TRAINING_STEPS):\n",
    "            xs, ys = mnist.train.next_batch(BATCH_SIZE)\n",
    "            _, loss_value, step = sess.run([train_op, loss, global_step], feed_dict={x:xs, y:ys})\n",
    "            plot_loss['step'].append(step)\n",
    "            plot_loss['loss'].append(loss_value)\n",
    "            if step % 250 == 0:\n",
    "                saver.save(sess, MODEL_SAVE_PATH, global_step=step)\n",
    "                accuracy_value = mnist_evaluate.evaluate(mnist)\n",
    "                plot_accuracy['step'].append(step)\n",
    "                plot_accuracy['accuracy'].append(accuracy_value)\n",
    "                print('step %d: loss on training batch is %g, validation accuracy is %g.' \n",
    "                      % (step, loss_value, accuracy_value))\n",
    "                \n",
    "    return plot_loss, plot_accuracy"
   ]
  },
  {
   "cell_type": "code",
   "execution_count": 4,
   "metadata": {
    "scrolled": true
   },
   "outputs": [
    {
     "name": "stdout",
     "output_type": "stream",
     "text": [
      "Extracting ./mnist_data/train-images-idx3-ubyte.gz\n",
      "Extracting ./mnist_data/train-labels-idx1-ubyte.gz\n",
      "Extracting ./mnist_data/t10k-images-idx3-ubyte.gz\n",
      "Extracting ./mnist_data/t10k-labels-idx1-ubyte.gz\n",
      "INFO:tensorflow:Restoring parameters from ./model_save_dir/model.ckpt-250\n",
      "step 250: loss on training batch is 0.327681, validation accuracy is 0.9604.\n",
      "INFO:tensorflow:Restoring parameters from ./model_save_dir/model.ckpt-500\n",
      "step 500: loss on training batch is 0.254813, validation accuracy is 0.9702.\n",
      "INFO:tensorflow:Restoring parameters from ./model_save_dir/model.ckpt-750\n",
      "step 750: loss on training batch is 0.253505, validation accuracy is 0.976.\n",
      "INFO:tensorflow:Restoring parameters from ./model_save_dir/model.ckpt-1000\n",
      "step 1000: loss on training batch is 0.202784, validation accuracy is 0.9766.\n",
      "INFO:tensorflow:Restoring parameters from ./model_save_dir/model.ckpt-1250\n",
      "step 1250: loss on training batch is 0.16838, validation accuracy is 0.979.\n",
      "INFO:tensorflow:Restoring parameters from ./model_save_dir/model.ckpt-1500\n",
      "step 1500: loss on training batch is 0.318084, validation accuracy is 0.9788.\n",
      "INFO:tensorflow:Restoring parameters from ./model_save_dir/model.ckpt-1750\n",
      "step 1750: loss on training batch is 0.203606, validation accuracy is 0.9792.\n",
      "INFO:tensorflow:Restoring parameters from ./model_save_dir/model.ckpt-2000\n",
      "step 2000: loss on training batch is 0.225919, validation accuracy is 0.9806.\n",
      "INFO:tensorflow:Restoring parameters from ./model_save_dir/model.ckpt-2250\n",
      "step 2250: loss on training batch is 0.168246, validation accuracy is 0.9804.\n",
      "INFO:tensorflow:Restoring parameters from ./model_save_dir/model.ckpt-2500\n",
      "step 2500: loss on training batch is 0.148773, validation accuracy is 0.9818.\n",
      "INFO:tensorflow:Restoring parameters from ./model_save_dir/model.ckpt-2750\n",
      "step 2750: loss on training batch is 0.187199, validation accuracy is 0.9804.\n",
      "INFO:tensorflow:Restoring parameters from ./model_save_dir/model.ckpt-3000\n",
      "step 3000: loss on training batch is 0.204884, validation accuracy is 0.9822.\n",
      "INFO:tensorflow:Restoring parameters from ./model_save_dir/model.ckpt-3250\n",
      "step 3250: loss on training batch is 0.154597, validation accuracy is 0.9806.\n",
      "INFO:tensorflow:Restoring parameters from ./model_save_dir/model.ckpt-3500\n",
      "step 3500: loss on training batch is 0.143968, validation accuracy is 0.9822.\n",
      "INFO:tensorflow:Restoring parameters from ./model_save_dir/model.ckpt-3750\n",
      "step 3750: loss on training batch is 0.155491, validation accuracy is 0.9812.\n",
      "INFO:tensorflow:Restoring parameters from ./model_save_dir/model.ckpt-4000\n",
      "step 4000: loss on training batch is 0.128112, validation accuracy is 0.9816.\n",
      "INFO:tensorflow:Restoring parameters from ./model_save_dir/model.ckpt-4250\n",
      "step 4250: loss on training batch is 0.124886, validation accuracy is 0.9818.\n",
      "INFO:tensorflow:Restoring parameters from ./model_save_dir/model.ckpt-4500\n",
      "step 4500: loss on training batch is 0.125034, validation accuracy is 0.9828.\n",
      "INFO:tensorflow:Restoring parameters from ./model_save_dir/model.ckpt-4750\n",
      "step 4750: loss on training batch is 0.119934, validation accuracy is 0.9832.\n",
      "INFO:tensorflow:Restoring parameters from ./model_save_dir/model.ckpt-5000\n",
      "step 5000: loss on training batch is 0.127812, validation accuracy is 0.983.\n"
     ]
    }
   ],
   "source": [
    "tf.reset_default_graph()\n",
    "mnist = input_data.read_data_sets('./mnist_data/', one_hot=True)\n",
    "plot_loss, plot_accuracy = train(mnist)"
   ]
  },
  {
   "cell_type": "code",
   "execution_count": 15,
   "metadata": {},
   "outputs": [
    {
     "data": {
      "text/plain": [
       "[<matplotlib.lines.Line2D at 0x29e82d15748>]"
      ]
     },
     "execution_count": 15,
     "metadata": {},
     "output_type": "execute_result"
    },
    {
     "data": {
      "image/png": "[encoded data removed]",
      "text/plain": [
       "<matplotlib.figure.Figure at 0x29e82611780>"
      ]
     },
     "metadata": {},
     "output_type": "display_data"
    }
   ],
   "source": [
    "plt.plot(plot_loss['step'][10:], plot_loss['loss'][10:])"
   ]
  },
  {
   "cell_type": "code",
   "execution_count": 11,
   "metadata": {},
   "outputs": [
    {
     "data": {
      "text/plain": [
       "[<matplotlib.lines.Line2D at 0x29e82577a58>]"
      ]
     },
     "execution_count": 11,
     "metadata": {},
     "output_type": "execute_result"
    },
    {
     "data": {
      "image/png": "[encoded data removed]",
      "text/plain": [
       "<matplotlib.figure.Figure at 0x29e82500b00>"
      ]
     },
     "metadata": {},
     "output_type": "display_data"
    }
   ],
   "source": [
    "plt.plot(plot_accuracy['step'], plot_accuracy['accuracy'])"
   ]
  },
  {
   "cell_type": "code",
   "execution_count": 13,
   "metadata": {},
   "outputs": [
    {
     "data": {
      "text/plain": [
       "2"
      ]
     },
     "execution_count": 13,
     "metadata": {},
     "output_type": "execute_result"
    }
   ],
   "source": [
    "plot_loss['step'][1]"
   ]
  },
  {
   "cell_type": "markdown",
   "metadata": {},
   "source": [
    "# Part2. Evaluate mnist data"
   ]
  },
  {
   "cell_type": "code",
   "execution_count": null,
   "metadata": {
    "collapsed": true
   },
   "outputs": [],
   "source": [
    "import time\n",
    "import tensorflow as tf\n",
    "from tensorflow.examples.tutorials.mnist import input_data\n",
    "\n",
    "import mnist_inference\n",
    "EVAL_INTERVAL_SECS = 5"
   ]
  },
  {
   "cell_type": "code",
   "execution_count": null,
   "metadata": {
    "collapsed": true
   },
   "outputs": [],
   "source": [
    "BATCH_SIZE = 100\n",
    "LEARNING_RATE_BASE = 0.8\n",
    "LEARNING_RATE_DECAY = 0.99\n",
    "REGULARIZATION_RATE = 0.0001\n",
    "TRAINING_STEPS = 30000\n",
    "MOVING_AVERAGE_DECAY = 0.99\n",
    "\n",
    "MODEL_SAVE_PATH = './model_save_dir/'"
   ]
  },
  {
   "cell_type": "code",
   "execution_count": null,
   "metadata": {
    "collapsed": true
   },
   "outputs": [],
   "source": [
    "def evaluate(mnist):\n",
    "    with tf.Graph().as_default() as g:\n",
    "        x = tf.placeholder(tf.float32, [None, mnist_inference.INPUT_NODE], name='x-input')\n",
    "        y = tf.placeholder(tf.float32, [None, mnist_inference.OUTPUT_NODE], name='y-input')\n",
    "        y_ = mnist_inference.inference(x)\n",
    "\n",
    "        correct_prediction = tf.equal(tf.argmax(y, 1), tf.argmax(y_, 1))\n",
    "        accuracy = tf.reduce_mean(tf.cast(correct_prediction, tf.float32))\n",
    "\n",
    "        variable_averages = tf.train.ExponentialMovingAverage(MOVING_AVERAGE_DECAY)\n",
    "        variables_to_restore = variable_averages.variables_to_restore()\n",
    "        saver = tf.train.Saver(variables_to_restore)\n",
    "\n",
    "        ckpts = tf.train.get_checkpoint_state(MODEL_SAVE_PATH)\n",
    "        for ckpt in ckpts.all_model_checkpoint_paths:\n",
    "            with tf.Session() as sess:\n",
    "                saver.restore(sess, ckpt)\n",
    "                global_step = ckpt.split('/')[-1].split('-')[-1]\n",
    "                validate_feed = {x:mnist.validation.images,\n",
    "                                 y:mnist.validation.labels}\n",
    "                accuracy_score = sess.run(accuracy, feed_dict=validate_feed)\n",
    "                print('step %s: validation accuracy is %g.' % (global_step, accuracy_score))\n",
    "            \n",
    "            time.sleep(EVAL_INTERVAL_SECS)"
   ]
  },
  {
   "cell_type": "code",
   "execution_count": null,
   "metadata": {
    "collapsed": true,
    "scrolled": true
   },
   "outputs": [],
   "source": [
    "mnist = input_data.read_data_sets('./mnist_data/', one_hot=True)\n",
    "evaluate(mnist)"
   ]
  }
 ],
 "metadata": {
  "kernelspec": {
   "display_name": "Python 3",
   "language": "python",
   "name": "python3"
  },
  "language_info": {
   "codemirror_mode": {
    "name": "ipython",
    "version": 3
   },
   "file_extension": ".py",
   "mimetype": "text/x-python",
   "name": "python",
   "nbconvert_exporter": "python",
   "pygments_lexer": "ipython3",
   "version": "3.6.2"
  }
 },
 "nbformat": 4,
 "nbformat_minor": 2
}
